{
 "cells": [
  {
   "cell_type": "markdown",
   "metadata": {},
   "source": [
    "# Machine Learning Classifier for Dementia Prediction\n",
    "### Sofiya Patra\n",
    "In this notebook, I will use machine learning to predict the presence of dementia in patients based on their MRI data. This data was obtained from the Kaggle MRI and Alzheimer's dataset but originated from the Open Access Series of Imaging Studies (OASIS) database. I will be looking at the Cross-sectional MRI data in Young, Middle Aged, Nondemented and Demented Older Adults.\n",
    "\n",
    "The dataset includes information about Age, Education, Socioeconomic Status, Mini-Mental State Examination (MMSE) score, estimated total intracranial volume, and normalized whole brain volume."
   ]
  },
  {
   "cell_type": "code",
   "execution_count": 22,
   "metadata": {},
   "outputs": [],
   "source": [
    "#Importing Libraries\n",
    "import numpy as np\n",
    "import sklearn\n",
    "from sklearn.model_selection import train_test_split\n",
    "from sklearn.preprocessing import StandardScaler\n",
    "from sklearn.linear_model import LogisticRegression\n",
    "from sklearn.ensemble import RandomForestClassifier\n",
    "from sklearn.metrics import confusion_matrix, classification_report\n",
    "from sklearn.metrics import accuracy_score\n",
    "import matplotlib.pyplot as plt\n",
    "import seaborn as sns\n",
    "import pandas as pd"
   ]
  },
  {
   "cell_type": "markdown",
   "metadata": {},
   "source": [
    "### Pre-processing \n",
    "Aim to inspect the data and deal with nulls. "
   ]
  },
  {
   "cell_type": "code",
   "execution_count": 23,
   "metadata": {},
   "outputs": [
    {
     "name": "stdout",
     "output_type": "stream",
     "text": [
      "ID        object\n",
      "M/F       object\n",
      "Hand      object\n",
      "Age        int64\n",
      "Educ     float64\n",
      "SES      float64\n",
      "MMSE     float64\n",
      "CDR      float64\n",
      "eTIV       int64\n",
      "nWBV     float64\n",
      "ASF      float64\n",
      "Delay    float64\n",
      "dtype: object\n",
      "<class 'pandas.core.frame.DataFrame'>\n",
      "RangeIndex: 436 entries, 0 to 435\n",
      "Data columns (total 12 columns):\n",
      " #   Column  Non-Null Count  Dtype  \n",
      "---  ------  --------------  -----  \n",
      " 0   ID      436 non-null    object \n",
      " 1   M/F     436 non-null    object \n",
      " 2   Hand    436 non-null    object \n",
      " 3   Age     436 non-null    int64  \n",
      " 4   Educ    235 non-null    float64\n",
      " 5   SES     216 non-null    float64\n",
      " 6   MMSE    235 non-null    float64\n",
      " 7   CDR     235 non-null    float64\n",
      " 8   eTIV    436 non-null    int64  \n",
      " 9   nWBV    436 non-null    float64\n",
      " 10  ASF     436 non-null    float64\n",
      " 11  Delay   20 non-null     float64\n",
      "dtypes: float64(7), int64(2), object(3)\n",
      "memory usage: 41.0+ KB\n",
      "None\n"
     ]
    },
    {
     "data": {
      "text/html": [
       "<div>\n",
       "<style scoped>\n",
       "    .dataframe tbody tr th:only-of-type {\n",
       "        vertical-align: middle;\n",
       "    }\n",
       "\n",
       "    .dataframe tbody tr th {\n",
       "        vertical-align: top;\n",
       "    }\n",
       "\n",
       "    .dataframe thead th {\n",
       "        text-align: right;\n",
       "    }\n",
       "</style>\n",
       "<table border=\"1\" class=\"dataframe\">\n",
       "  <thead>\n",
       "    <tr style=\"text-align: right;\">\n",
       "      <th></th>\n",
       "      <th>ID</th>\n",
       "      <th>M/F</th>\n",
       "      <th>Hand</th>\n",
       "      <th>Age</th>\n",
       "      <th>Educ</th>\n",
       "      <th>SES</th>\n",
       "      <th>MMSE</th>\n",
       "      <th>CDR</th>\n",
       "      <th>eTIV</th>\n",
       "      <th>nWBV</th>\n",
       "      <th>ASF</th>\n",
       "      <th>Delay</th>\n",
       "    </tr>\n",
       "  </thead>\n",
       "  <tbody>\n",
       "    <tr>\n",
       "      <th>0</th>\n",
       "      <td>OAS1_0001_MR1</td>\n",
       "      <td>F</td>\n",
       "      <td>R</td>\n",
       "      <td>74</td>\n",
       "      <td>2.0</td>\n",
       "      <td>3.0</td>\n",
       "      <td>29.0</td>\n",
       "      <td>0.0</td>\n",
       "      <td>1344</td>\n",
       "      <td>0.743</td>\n",
       "      <td>1.306</td>\n",
       "      <td>NaN</td>\n",
       "    </tr>\n",
       "    <tr>\n",
       "      <th>1</th>\n",
       "      <td>OAS1_0002_MR1</td>\n",
       "      <td>F</td>\n",
       "      <td>R</td>\n",
       "      <td>55</td>\n",
       "      <td>4.0</td>\n",
       "      <td>1.0</td>\n",
       "      <td>29.0</td>\n",
       "      <td>0.0</td>\n",
       "      <td>1147</td>\n",
       "      <td>0.810</td>\n",
       "      <td>1.531</td>\n",
       "      <td>NaN</td>\n",
       "    </tr>\n",
       "    <tr>\n",
       "      <th>2</th>\n",
       "      <td>OAS1_0003_MR1</td>\n",
       "      <td>F</td>\n",
       "      <td>R</td>\n",
       "      <td>73</td>\n",
       "      <td>4.0</td>\n",
       "      <td>3.0</td>\n",
       "      <td>27.0</td>\n",
       "      <td>0.5</td>\n",
       "      <td>1454</td>\n",
       "      <td>0.708</td>\n",
       "      <td>1.207</td>\n",
       "      <td>NaN</td>\n",
       "    </tr>\n",
       "    <tr>\n",
       "      <th>3</th>\n",
       "      <td>OAS1_0004_MR1</td>\n",
       "      <td>M</td>\n",
       "      <td>R</td>\n",
       "      <td>28</td>\n",
       "      <td>NaN</td>\n",
       "      <td>NaN</td>\n",
       "      <td>NaN</td>\n",
       "      <td>NaN</td>\n",
       "      <td>1588</td>\n",
       "      <td>0.803</td>\n",
       "      <td>1.105</td>\n",
       "      <td>NaN</td>\n",
       "    </tr>\n",
       "    <tr>\n",
       "      <th>4</th>\n",
       "      <td>OAS1_0005_MR1</td>\n",
       "      <td>M</td>\n",
       "      <td>R</td>\n",
       "      <td>18</td>\n",
       "      <td>NaN</td>\n",
       "      <td>NaN</td>\n",
       "      <td>NaN</td>\n",
       "      <td>NaN</td>\n",
       "      <td>1737</td>\n",
       "      <td>0.848</td>\n",
       "      <td>1.010</td>\n",
       "      <td>NaN</td>\n",
       "    </tr>\n",
       "  </tbody>\n",
       "</table>\n",
       "</div>"
      ],
      "text/plain": [
       "              ID M/F Hand  Age  Educ  SES  MMSE  CDR  eTIV   nWBV    ASF  \\\n",
       "0  OAS1_0001_MR1   F    R   74   2.0  3.0  29.0  0.0  1344  0.743  1.306   \n",
       "1  OAS1_0002_MR1   F    R   55   4.0  1.0  29.0  0.0  1147  0.810  1.531   \n",
       "2  OAS1_0003_MR1   F    R   73   4.0  3.0  27.0  0.5  1454  0.708  1.207   \n",
       "3  OAS1_0004_MR1   M    R   28   NaN  NaN   NaN  NaN  1588  0.803  1.105   \n",
       "4  OAS1_0005_MR1   M    R   18   NaN  NaN   NaN  NaN  1737  0.848  1.010   \n",
       "\n",
       "   Delay  \n",
       "0    NaN  \n",
       "1    NaN  \n",
       "2    NaN  \n",
       "3    NaN  \n",
       "4    NaN  "
      ]
     },
     "execution_count": 23,
     "metadata": {},
     "output_type": "execute_result"
    }
   ],
   "source": [
    "#read in data\n",
    "df = pd.read_csv(\"oasis_cross-sectional.csv\")\n",
    "\n",
    "#inspect data \n",
    "print(df.dtypes)\n",
    "print(df.info())\n",
    "df.head()\n"
   ]
  },
  {
   "cell_type": "markdown",
   "metadata": {},
   "source": [
    "The target variable is CDR so the rows without CDR are dropped. The ID column is dropped because it is uninformative. The Delay column is dropped because it is mostly null and should not be informative. "
   ]
  },
  {
   "cell_type": "code",
   "execution_count": 24,
   "metadata": {},
   "outputs": [
    {
     "name": "stdout",
     "output_type": "stream",
     "text": [
      "<class 'pandas.core.frame.DataFrame'>\n",
      "Index: 235 entries, 0 to 415\n",
      "Data columns (total 10 columns):\n",
      " #   Column  Non-Null Count  Dtype  \n",
      "---  ------  --------------  -----  \n",
      " 0   M/F     235 non-null    object \n",
      " 1   Hand    235 non-null    object \n",
      " 2   Age     235 non-null    int64  \n",
      " 3   Educ    235 non-null    float64\n",
      " 4   SES     216 non-null    float64\n",
      " 5   MMSE    235 non-null    float64\n",
      " 6   CDR     235 non-null    float64\n",
      " 7   eTIV    235 non-null    int64  \n",
      " 8   nWBV    235 non-null    float64\n",
      " 9   ASF     235 non-null    float64\n",
      "dtypes: float64(6), int64(2), object(2)\n",
      "memory usage: 20.2+ KB\n",
      "None\n"
     ]
    }
   ],
   "source": [
    "df_clean = df.dropna(subset=[\"CDR\"]).copy()\n",
    "\n",
    "#drop unnecesary columns\n",
    "df_clean = df_clean.drop(columns =[\"ID\", \"Delay\"])\n",
    "\n",
    "print(df_clean.info())\n"
   ]
  },
  {
   "cell_type": "markdown",
   "metadata": {},
   "source": [
    "Dropping the rows without CDR left nulls only in the SES column. We can impute these using the median. "
   ]
  },
  {
   "cell_type": "code",
   "execution_count": 25,
   "metadata": {},
   "outputs": [
    {
     "name": "stdout",
     "output_type": "stream",
     "text": [
      "<class 'pandas.core.frame.DataFrame'>\n",
      "Index: 235 entries, 0 to 415\n",
      "Data columns (total 10 columns):\n",
      " #   Column  Non-Null Count  Dtype  \n",
      "---  ------  --------------  -----  \n",
      " 0   M/F     235 non-null    int64  \n",
      " 1   Hand    235 non-null    int64  \n",
      " 2   Age     235 non-null    int64  \n",
      " 3   Educ    235 non-null    float64\n",
      " 4   SES     235 non-null    float64\n",
      " 5   MMSE    235 non-null    float64\n",
      " 6   CDR     235 non-null    float64\n",
      " 7   eTIV    235 non-null    int64  \n",
      " 8   nWBV    235 non-null    float64\n",
      " 9   ASF     235 non-null    float64\n",
      "dtypes: float64(6), int64(4)\n",
      "memory usage: 20.2 KB\n"
     ]
    },
    {
     "name": "stderr",
     "output_type": "stream",
     "text": [
      "/var/folders/1_/t5xhcy1j43g904n29zrnns5h0000gn/T/ipykernel_657/1518214399.py:2: FutureWarning: A value is trying to be set on a copy of a DataFrame or Series through chained assignment using an inplace method.\n",
      "The behavior will change in pandas 3.0. This inplace method will never work because the intermediate object on which we are setting values always behaves as a copy.\n",
      "\n",
      "For example, when doing 'df[col].method(value, inplace=True)', try using 'df.method({col: value}, inplace=True)' or df[col] = df[col].method(value) instead, to perform the operation inplace on the original object.\n",
      "\n",
      "\n",
      "  df_clean[\"SES\"].fillna(df_clean[\"SES\"].median(), inplace = True)\n"
     ]
    }
   ],
   "source": [
    "#Fill remaining nulls with median\n",
    "df_clean[\"SES\"].fillna(df_clean[\"SES\"].median(), inplace = True)\n",
    "\n",
    "#Convert sex and handedness to categorical variables\n",
    "df_clean[\"M/F\"] = df_clean[\"M/F\"].map({\"M\": 0, \"F\": 1})  #Male = 0, Female = 1\n",
    "df_clean[\"Hand\"] = df_clean[\"Hand\"].map({\"R\":0, \"L\":1}) #Right-handed=0, Left-handed = 1\n",
    "\n",
    "df_clean.info()"
   ]
  },
  {
   "cell_type": "markdown",
   "metadata": {},
   "source": [
    "Imbalances in the distribution of meaningful variables can cause classifier performance bias. For this reason, the distributions of key variables should be inspected. "
   ]
  },
  {
   "cell_type": "code",
   "execution_count": 26,
   "metadata": {},
   "outputs": [
    {
     "data": {
      "image/png": "[encoded data removed]",
      "text/plain": [
       "<Figure size 640x480 with 6 Axes>"
      ]
     },
     "metadata": {},
     "output_type": "display_data"
    }
   ],
   "source": [
    "#Continuous variables distributions\n",
    "plt.subplot(2,3,1)\n",
    "sns.histplot(df_clean[\"Age\"], kde=True)\n",
    "\n",
    "\n",
    "plt.subplot(2,3,2)\n",
    "sns.histplot(df_clean[\"SES\"], kde=True)\n",
    "\n",
    "\n",
    "plt.subplot(2,3,3)\n",
    "sns.histplot(df_clean[\"MMSE\"], kde=True)\n",
    "\n",
    "\n",
    "plt.subplot(2,3,4)\n",
    "sns.histplot(df_clean[\"eTIV\"], kde=True)\n",
    "\n",
    "\n",
    "plt.subplot(2,3,5)\n",
    "sns.histplot(df_clean[\"nWBV\"], kde=True)\n",
    "\n",
    "plt.subplot(2,3,6)\n",
    "sns.histplot(df_clean[\"ASF\"], kde=True)\n",
    "\n",
    "plt.tight_layout()\n",
    "\n"
   ]
  },
  {
   "cell_type": "code",
   "execution_count": 27,
   "metadata": {},
   "outputs": [
    {
     "data": {
      "image/png": "[encoded data removed]",
      "text/plain": [
       "<Figure size 640x480 with 2 Axes>"
      ]
     },
     "metadata": {},
     "output_type": "display_data"
    }
   ],
   "source": [
    "plt.subplot(1,2,1)\n",
    "sns.countplot(x=df_clean['M/F'].replace({0: 'Male', 1: 'Female'}))\n",
    "plt.xlabel('Sex')\n",
    "\n",
    "plt.subplot(1,2,2)\n",
    "sns.countplot(x=df_clean['Hand'].replace({0: 'Right', 1:'Left'}))\n",
    "plt.xlabel('Handedness')\n",
    "plt.tight_layout()"
   ]
  },
  {
   "cell_type": "markdown",
   "metadata": {},
   "source": [
    "Based on the distributions - there's an imbalance in sex with almost twice the amount of females compared to males. This can lead to bias in the classifier so needs to be considered in the downstream implementation. Additionally, all the subjects are right handed so the Hand column should be removed as it is uninformative. "
   ]
  },
  {
   "cell_type": "code",
   "execution_count": 28,
   "metadata": {},
   "outputs": [],
   "source": [
    "df_clean = df_clean.drop(columns=['Hand'])"
   ]
  },
  {
   "cell_type": "markdown",
   "metadata": {},
   "source": [
    "### Building Classifiers"
   ]
  },
  {
   "cell_type": "markdown",
   "metadata": {},
   "source": [
    "#### Logistic Regression\n",
    "The Clinical Dementia Rating (CDR) column has the values 0, 0.5, 1, or 2. In order to use logistic regression we need discrete classes. To do this, I create a new column that makes the rating binary with 0 = nondemented and all other values signifying dementia. I will then use this as the target and train and test the data for the logistic regression as such. Additionally, the MMSE score could be a proxy for CDR so I decided to exclude it from the features. "
   ]
  },
  {
   "cell_type": "code",
   "execution_count": 29,
   "metadata": {},
   "outputs": [],
   "source": [
    "df_clean[\"CDR_binary\"] = (df_clean[\"CDR\"] > 0).astype(int)"
   ]
  },
  {
   "cell_type": "code",
   "execution_count": 30,
   "metadata": {},
   "outputs": [],
   "source": [
    "#defining features and target \n",
    "X = df_clean[['Age', 'Educ', 'SES', 'eTIV', 'nWBV', 'ASF']]\n",
    "y = df_clean['CDR_binary']\n",
    "\n",
    "#train test split\n",
    "X_train, X_test, y_train, y_test = train_test_split(X,y, test_size=0.2, stratify=y, random_state=42)\n",
    "\n",
    "\n",
    "#scale features\n",
    "scaler = StandardScaler()\n",
    "X_train_scaled = scaler.fit_transform(X_train)\n",
    "X_test_scaled = scaler.transform(X_test)\n"
   ]
  },
  {
   "cell_type": "code",
   "execution_count": 31,
   "metadata": {},
   "outputs": [
    {
     "name": "stdout",
     "output_type": "stream",
     "text": [
      "Accuracy: 0.8297872340425532\n",
      "[[23  4]\n",
      " [ 4 16]]\n",
      "              precision    recall  f1-score   support\n",
      "\n",
      "           0       0.85      0.85      0.85        27\n",
      "           1       0.80      0.80      0.80        20\n",
      "\n",
      "    accuracy                           0.83        47\n",
      "   macro avg       0.83      0.83      0.83        47\n",
      "weighted avg       0.83      0.83      0.83        47\n",
      "\n"
     ]
    }
   ],
   "source": [
    "log_classifier = LogisticRegression(class_weight='balanced', random_state=42)\n",
    "log_classifier.fit(X_train_scaled, y_train)\n",
    "\n",
    "y_pred = log_classifier.predict(X_test_scaled)\n",
    "print(\"Accuracy:\", accuracy_score(y_test, y_pred))\n",
    "print(confusion_matrix(y_test, y_pred))\n",
    "print(classification_report(y_test, y_pred))"
   ]
  },
  {
   "cell_type": "markdown",
   "metadata": {},
   "source": [
    "#### Random Forest \n",
    "Random Forest can classify into multiple categories. However, to make the RandomForestClassifier interpret the CDR values as categories I convert them to strings. Scaling is not needed as it is based on decision trees not distances. \n"
   ]
  },
  {
   "cell_type": "code",
   "execution_count": 32,
   "metadata": {},
   "outputs": [
    {
     "name": "stdout",
     "output_type": "stream",
     "text": [
      "Accuracy: 0.6382978723404256\n",
      "              precision    recall  f1-score   support\n",
      "\n",
      "         0.0       0.81      0.78      0.79        27\n",
      "         0.5       0.47      0.50      0.48        14\n",
      "         1.0       0.33      0.33      0.33         6\n",
      "\n",
      "    accuracy                           0.64        47\n",
      "   macro avg       0.54      0.54      0.54        47\n",
      "weighted avg       0.65      0.64      0.64        47\n",
      "\n"
     ]
    }
   ],
   "source": [
    "#defining features and target \n",
    "X = df_clean[['Age', 'Educ', 'SES', 'eTIV', 'nWBV', 'ASF']]\n",
    "y = df_clean['CDR'].astype(str)\n",
    "\n",
    "#train test split\n",
    "X_train, X_test, y_train, y_test = train_test_split(X,y, test_size=0.2, stratify=y, random_state=42)\n",
    "\n",
    "#create classifier\n",
    "rf_classifier=RandomForestClassifier(n_estimators=100, random_state=42)\n",
    "\n",
    "#train\n",
    "rf_classifier.fit(X_train, y_train)\n",
    "\n",
    "#test\n",
    "y_pred = rf_classifier.predict(X_test)\n",
    "\n",
    "print(\"Accuracy:\", accuracy_score(y_test, y_pred))\n",
    "print(classification_report(y_test, y_pred))"
   ]
  },
  {
   "cell_type": "code",
   "execution_count": null,
   "metadata": {},
   "outputs": [],
   "source": []
  }
 ],
 "metadata": {
  "kernelspec": {
   "display_name": "Python 3",
   "language": "python",
   "name": "python3"
  },
  "language_info": {
   "codemirror_mode": {
    "name": "ipython",
    "version": 3
   },
   "file_extension": ".py",
   "mimetype": "text/x-python",
   "name": "python",
   "nbconvert_exporter": "python",
   "pygments_lexer": "ipython3",
   "version": "3.11.4"
  }
 },
 "nbformat": 4,
 "nbformat_minor": 2
}
